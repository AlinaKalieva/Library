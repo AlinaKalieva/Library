{
 "cells": [
  {
   "cell_type": "code",
   "execution_count": 38,
   "metadata": {},
   "outputs": [],
   "source": [
    "import pandas as pd\n",
    "\n",
    "# load data\n",
    "data_loans = pd.read_csv('03_Library Systembook.csv')\n",
    "data_customers = pd.read_csv('03_Library SystemCustomers.csv')\n"
   ]
  },
  {
   "cell_type": "code",
   "execution_count": 39,
   "metadata": {},
   "outputs": [
    {
     "name": "stdout",
     "output_type": "stream",
     "text": [
      "Number of rows dropped: 94\n",
      "Number of rows dropped: 1\n"
     ]
    }
   ],
   "source": [
    "# drop any row with a missing value (not the best practice)\n",
    "initial_row_count = len(data_loans)\n",
    "data_loans = data_loans.dropna()\n",
    "dropped_row_count = initial_row_count - len(data_loans)\n",
    "print(\"Number of rows dropped:\", dropped_row_count)\n",
    "\n",
    "# remove any missing row with a missing values from data_customers\n",
    "initial_row_count = len(data_customers)\n",
    "data_customers = data_customers.dropna()\n",
    "dropped_row_count = initial_row_count - len(data_customers)\n",
    "print(\"Number of rows dropped:\", dropped_row_count)"
   ]
  },
  {
   "cell_type": "code",
   "execution_count": 40,
   "metadata": {},
   "outputs": [
    {
     "name": "stdout",
     "output_type": "stream",
     "text": [
      "Number of rows dropped: 0\n",
      "Number of rows dropped: 0\n"
     ]
    }
   ],
   "source": [
    "# remove duplicates from any dataframe\n",
    "def remove_duplicates(df):\n",
    "    initial_row_count = len(df)\n",
    "    df = df.drop_duplicates()\n",
    "    dropped_count = initial_row_count - len(df)\n",
    "    return df, dropped_count\n",
    "\n",
    "thing1, thing2 = remove_duplicates(data_loans)\n",
    "print(\"Number of rows dropped:\",thing2)\n",
    "\n",
    "thing1, thing2 = remove_duplicates(data_customers)\n",
    "print(\"Number of rows dropped:\",thing2)\n"
   ]
  },
  {
   "cell_type": "code",
   "execution_count": 41,
   "metadata": {},
   "outputs": [],
   "source": [
    "# fix date column issue\n",
    "data_loans['Book checkout'] = data_loans['Book checkout'].str.replace('\"', '', regex=False)\n",
    "data_loans['Book checkout'] = pd.to_datetime(data_loans['Book checkout'], dayfirst=True, errors='coerce')\n",
    "data_loans['Book Returned'] = data_loans['Book Returned'].str.replace('\"', '', regex=False)\n",
    "data_loans['Book Returned'] = pd.to_datetime(data_loans['Book Returned'], dayfirst=True, errors='coerce')\n"
   ]
  },
  {
   "cell_type": "code",
   "execution_count": 42,
   "metadata": {},
   "outputs": [],
   "source": [
    "# calculate the difference between checkout and return\n",
    "data_loans['Loan length'] = (data_loans['Book Returned'] - data_loans['Book checkout']).dt.days"
   ]
  },
  {
   "cell_type": "code",
   "execution_count": 43,
   "metadata": {},
   "outputs": [
    {
     "name": "stdout",
     "output_type": "stream",
     "text": [
      "Number of rows dropped: 1\n",
      "    Id                                     Books Book checkout Book Returned  \\\n",
      "0  1.0                       Catcher in the Rye     2023-02-20    2023-02-25   \n",
      "1  2.0          Lord of the rings the two towers    2023-03-24    2023-03-21   \n",
      "2  3.0  Lord of the rings the return of the kind    2023-03-29    2023-03-25   \n",
      "3  4.0                                The hobbit    2023-04-02    2023-03-25   \n",
      "4  5.0                                     Dune     2023-04-02    2023-03-25   \n",
      "\n",
      "  Days allowed to borrow  Customer ID  Loan length  \n",
      "0                2 weeks          1.0          5.0  \n",
      "1                2 weeks          2.0         -3.0  \n",
      "2                2 weeks          3.0         -4.0  \n",
      "3                2 weeks          4.0         -8.0  \n",
      "4                2 weeks          5.0         -8.0  \n"
     ]
    }
   ],
   "source": [
    "# drop any row with a missing values if accured after excecuting previous code\n",
    "initial_row_count = len(data_loans)\n",
    "data_loans = data_loans.dropna()\n",
    "dropped_row_count = initial_row_count - len(data_loans)\n",
    "print(\"Number of rows dropped:\", dropped_row_count)\n",
    "print(data_loans.head())"
   ]
  },
  {
   "cell_type": "code",
   "execution_count": 44,
   "metadata": {},
   "outputs": [
    {
     "name": "stdout",
     "output_type": "stream",
     "text": [
      "   Customer ID   Customer Name\n",
      "0          1.0        Jane Doe\n",
      "1          2.0      John Smith\n",
      "2          3.0      Dan Reeves\n",
      "4          5.0  William Holden\n",
      "5          6.0   Jaztyn Forest\n",
      "    Id                                     Books Book checkout Book Returned  \\\n",
      "0  1.0                       Catcher in the Rye     2023-02-20    2023-02-25   \n",
      "1  2.0          Lord of the rings the two towers    2023-03-24    2023-03-21   \n",
      "2  3.0  Lord of the rings the return of the kind    2023-03-29    2023-03-25   \n",
      "3  4.0                                The hobbit    2023-04-02    2023-03-25   \n",
      "4  5.0                                     Dune     2023-04-02    2023-03-25   \n",
      "\n",
      "  Days allowed to borrow  Customer ID  Loan length  \n",
      "0                2 weeks          1.0          5.0  \n",
      "1                2 weeks          2.0         -3.0  \n",
      "2                2 weeks          3.0         -4.0  \n",
      "3                2 weeks          4.0         -8.0  \n",
      "4                2 weeks          5.0         -8.0  \n"
     ]
    }
   ],
   "source": [
    "print(data_customers.head())\n",
    "print (data_loans.head())"
   ]
  },
  {
   "cell_type": "code",
   "execution_count": 45,
   "metadata": {},
   "outputs": [
    {
     "data": {
      "text/plain": [
       "8"
      ]
     },
     "execution_count": 45,
     "metadata": {},
     "output_type": "execute_result"
    }
   ],
   "source": [
    "from sqlalchemy import create_engine\n",
    "\n",
    "server = 'MIS'  \n",
    "database = 'DE5_Module5'\n",
    "username = 'AlinaK'\n",
    "password = 'Test'\n",
    "\n",
    "# Connection String with Windows Auth\n",
    "connection_string = f'mssql+pyodbc://@{server}/{database}?trusted_connection=yes&driver=ODBC+Driver+17+for+SQL+Server'\n",
    "\n",
    "# Create an engine\n",
    "engine = create_engine(connection_string)\n",
    "\n",
    "# Writing a dataframe to SQL Server\n",
    "data_loans.to_sql('loans', con=engine, if_exists='replace', index=False)\n",
    "data_customers.to_sql('customers', con=engine, if_exists='replace', index=False)\n"
   ]
  }
 ],
 "metadata": {
  "kernelspec": {
   "display_name": "base",
   "language": "python",
   "name": "python3"
  },
  "language_info": {
   "codemirror_mode": {
    "name": "ipython",
    "version": 3
   },
   "file_extension": ".py",
   "mimetype": "text/x-python",
   "name": "python",
   "nbconvert_exporter": "python",
   "pygments_lexer": "ipython3",
   "version": "3.11.7"
  }
 },
 "nbformat": 4,
 "nbformat_minor": 2
}
