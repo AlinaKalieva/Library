{
 "cells": [
  {
   "cell_type": "code",
   "execution_count": 5,
   "metadata": {},
   "outputs": [],
   "source": [
    "import pandas as pd"
   ]
  },
  {
   "cell_type": "code",
   "execution_count": 13,
   "metadata": {},
   "outputs": [
    {
     "name": "stdout",
     "output_type": "stream",
     "text": [
      "    Id                                     Books Book checkout Book Returned  \\\n",
      "0  1.0                       Catcher in the Rye   \"20/02/2023\"    25/02/2023   \n",
      "1  2.0          Lord of the rings the two towers  \"24/03/2023\"    21/03/2023   \n",
      "2  3.0  Lord of the rings the return of the kind  \"29/03/2023\"    25/03/2023   \n",
      "3  4.0                                The hobbit  \"02/04/2023\"    25/03/2023   \n",
      "4  5.0                                     Dune   \"02/04/2023\"    25/03/2023   \n",
      "\n",
      "  Days allowed to borrow  Customer ID  \n",
      "0                2 weeks          1.0  \n",
      "1                2 weeks          2.0  \n",
      "2                2 weeks          3.0  \n",
      "3                2 weeks          4.0  \n",
      "4                2 weeks          5.0  \n",
      "   Customer ID   Customer Name\n",
      "0          1.0        Jane Doe\n",
      "1          2.0      John Smith\n",
      "2          3.0      Dan Reeves\n",
      "3          NaN             NaN\n",
      "4          5.0  William Holden\n"
     ]
    }
   ],
   "source": [
    "data_loans = pd.read_csv('03_Library Systembook.csv')\n",
    "data_customers = pd.read_csv('03_Library SystemCustomers.csv')\n",
    "\n",
    "print(data_loans.head())\n",
    "print(data_customers.head())"
   ]
  },
  {
   "cell_type": "markdown",
   "metadata": {},
   "source": [
    "Tasks:\n",
    "- Check for NA values and deal with them.\n",
    "- turn the dates into datetime. \n",
    "- data enrichment: try to calculate the number of days a book was on loan."
   ]
  },
  {
   "cell_type": "markdown",
   "metadata": {},
   "source": []
  },
  {
   "cell_type": "code",
   "execution_count": 14,
   "metadata": {},
   "outputs": [
    {
     "data": {
      "text/html": [
       "<div>\n",
       "<style scoped>\n",
       "    .dataframe tbody tr th:only-of-type {\n",
       "        vertical-align: middle;\n",
       "    }\n",
       "\n",
       "    .dataframe tbody tr th {\n",
       "        vertical-align: top;\n",
       "    }\n",
       "\n",
       "    .dataframe thead th {\n",
       "        text-align: right;\n",
       "    }\n",
       "</style>\n",
       "<table border=\"1\" class=\"dataframe\">\n",
       "  <thead>\n",
       "    <tr style=\"text-align: right;\">\n",
       "      <th></th>\n",
       "      <th>Id</th>\n",
       "      <th>Books</th>\n",
       "      <th>Book checkout</th>\n",
       "      <th>Book Returned</th>\n",
       "      <th>Days allowed to borrow</th>\n",
       "      <th>Customer ID</th>\n",
       "    </tr>\n",
       "  </thead>\n",
       "  <tbody>\n",
       "    <tr>\n",
       "      <th>0</th>\n",
       "      <td>1.0</td>\n",
       "      <td>Catcher in the Rye</td>\n",
       "      <td>\"20/02/2023\"</td>\n",
       "      <td>25/02/2023</td>\n",
       "      <td>2 weeks</td>\n",
       "      <td>1.0</td>\n",
       "    </tr>\n",
       "    <tr>\n",
       "      <th>1</th>\n",
       "      <td>2.0</td>\n",
       "      <td>Lord of the rings the two towers</td>\n",
       "      <td>\"24/03/2023\"</td>\n",
       "      <td>21/03/2023</td>\n",
       "      <td>2 weeks</td>\n",
       "      <td>2.0</td>\n",
       "    </tr>\n",
       "    <tr>\n",
       "      <th>2</th>\n",
       "      <td>3.0</td>\n",
       "      <td>Lord of the rings the return of the kind</td>\n",
       "      <td>\"29/03/2023\"</td>\n",
       "      <td>25/03/2023</td>\n",
       "      <td>2 weeks</td>\n",
       "      <td>3.0</td>\n",
       "    </tr>\n",
       "    <tr>\n",
       "      <th>3</th>\n",
       "      <td>4.0</td>\n",
       "      <td>The hobbit</td>\n",
       "      <td>\"02/04/2023\"</td>\n",
       "      <td>25/03/2023</td>\n",
       "      <td>2 weeks</td>\n",
       "      <td>4.0</td>\n",
       "    </tr>\n",
       "    <tr>\n",
       "      <th>4</th>\n",
       "      <td>5.0</td>\n",
       "      <td>Dune</td>\n",
       "      <td>\"02/04/2023\"</td>\n",
       "      <td>25/03/2023</td>\n",
       "      <td>2 weeks</td>\n",
       "      <td>5.0</td>\n",
       "    </tr>\n",
       "  </tbody>\n",
       "</table>\n",
       "</div>"
      ],
      "text/plain": [
       "    Id                                     Books Book checkout Book Returned  \\\n",
       "0  1.0                       Catcher in the Rye   \"20/02/2023\"    25/02/2023   \n",
       "1  2.0          Lord of the rings the two towers  \"24/03/2023\"    21/03/2023   \n",
       "2  3.0  Lord of the rings the return of the kind  \"29/03/2023\"    25/03/2023   \n",
       "3  4.0                                The hobbit  \"02/04/2023\"    25/03/2023   \n",
       "4  5.0                                     Dune   \"02/04/2023\"    25/03/2023   \n",
       "\n",
       "  Days allowed to borrow  Customer ID  \n",
       "0                2 weeks          1.0  \n",
       "1                2 weeks          2.0  \n",
       "2                2 weeks          3.0  \n",
       "3                2 weeks          4.0  \n",
       "4                2 weeks          5.0  "
      ]
     },
     "execution_count": 14,
     "metadata": {},
     "output_type": "execute_result"
    }
   ],
   "source": [
    "data_loans.head()"
   ]
  },
  {
   "cell_type": "code",
   "execution_count": 8,
   "metadata": {},
   "outputs": [
    {
     "name": "stderr",
     "output_type": "stream",
     "text": [
      "C:\\Users\\Admin\\AppData\\Local\\Temp\\ipykernel_13352\\2999039766.py:1: UserWarning: Could not infer format, so each element will be parsed individually, falling back to `dateutil`. To ensure parsing is consistent and as-expected, please specify a format.\n",
      "  data_loans['Book checkout']=pd.to_datetime(data_loans['Book checkout'],errors ='coerce')\n"
     ]
    }
   ],
   "source": [
    "data_loans['Book checkout']=pd.to_datetime(data_loans['Book checkout'],errors ='coerce')"
   ]
  },
  {
   "cell_type": "code",
   "execution_count": 15,
   "metadata": {},
   "outputs": [
    {
     "ename": "SyntaxError",
     "evalue": "unterminated string literal (detected at line 1) (1598870783.py, line 1)",
     "output_type": "error",
     "traceback": [
      "\u001b[1;36m  Cell \u001b[1;32mIn[15], line 1\u001b[1;36m\u001b[0m\n\u001b[1;33m    data_loans.replace(\",  ,inplace=False)\u001b[0m\n\u001b[1;37m                       ^\u001b[0m\n\u001b[1;31mSyntaxError\u001b[0m\u001b[1;31m:\u001b[0m unterminated string literal (detected at line 1)\n"
     ]
    }
   ],
   "source": [
    "data_loans.replace(\",  )"
   ]
  },
  {
   "cell_type": "code",
   "execution_count": 11,
   "metadata": {},
   "outputs": [
    {
     "name": "stdout",
     "output_type": "stream",
     "text": [
      "<class 'pandas.core.frame.DataFrame'>\n",
      "RangeIndex: 114 entries, 0 to 113\n",
      "Data columns (total 6 columns):\n",
      " #   Column                  Non-Null Count  Dtype         \n",
      "---  ------                  --------------  -----         \n",
      " 0   Id                      21 non-null     float64       \n",
      " 1   Books                   20 non-null     object        \n",
      " 2   Book checkout           0 non-null      datetime64[ns]\n",
      " 3   Book Returned           21 non-null     object        \n",
      " 4   Days allowed to borrow  21 non-null     object        \n",
      " 5   Customer ID             20 non-null     float64       \n",
      "dtypes: datetime64[ns](1), float64(2), object(3)\n",
      "memory usage: 5.5+ KB\n"
     ]
    }
   ],
   "source": [
    "\n",
    "data_loans.info()"
   ]
  },
  {
   "cell_type": "markdown",
   "metadata": {},
   "source": []
  },
  {
   "cell_type": "code",
   "execution_count": 9,
   "metadata": {},
   "outputs": [
    {
     "name": "stdout",
     "output_type": "stream",
     "text": [
      "    Id                                     Books Book checkout Book Returned  \\\n",
      "0  1.0                       Catcher in the Rye            NaT    25/02/2023   \n",
      "1  2.0          Lord of the rings the two towers           NaT    21/03/2023   \n",
      "2  3.0  Lord of the rings the return of the kind           NaT    25/03/2023   \n",
      "3  4.0                                The hobbit           NaT    25/03/2023   \n",
      "4  5.0                                     Dune            NaT    25/03/2023   \n",
      "\n",
      "  Days allowed to borrow  Customer ID  \n",
      "0                2 weeks          1.0  \n",
      "1                2 weeks          2.0  \n",
      "2                2 weeks          3.0  \n",
      "3                2 weeks          4.0  \n",
      "4                2 weeks          5.0  \n"
     ]
    }
   ],
   "source": [
    "print(data_loans.head())"
   ]
  }
 ],
 "metadata": {
  "kernelspec": {
   "display_name": "base",
   "language": "python",
   "name": "python3"
  },
  "language_info": {
   "codemirror_mode": {
    "name": "ipython",
    "version": 3
   },
   "file_extension": ".py",
   "mimetype": "text/x-python",
   "name": "python",
   "nbconvert_exporter": "python",
   "pygments_lexer": "ipython3",
   "version": "3.11.7"
  }
 },
 "nbformat": 4,
 "nbformat_minor": 2
}
