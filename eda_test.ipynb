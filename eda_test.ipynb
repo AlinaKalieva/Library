{
 "cells": [
  {
   "cell_type": "code",
   "execution_count": 5,
   "metadata": {},
   "outputs": [],
   "source": [
    "import pandas as pd"
   ]
  },
  {
   "cell_type": "code",
   "execution_count": null,
   "metadata": {},
   "outputs": [],
   "source": []
  },
  {
   "cell_type": "code",
   "execution_count": 10,
   "metadata": {},
   "outputs": [
    {
     "name": "stdout",
     "output_type": "stream",
     "text": [
      "    Id                                     Books Book checkout Book Returned  \\\n",
      "0  1.0                       Catcher in the Rye   \"20/02/2023\"    25/02/2023   \n",
      "1  2.0          Lord of the rings the two towers  \"24/03/2023\"    21/03/2023   \n",
      "2  3.0  Lord of the rings the return of the kind  \"29/03/2023\"    25/03/2023   \n",
      "3  4.0                                The hobbit  \"02/04/2023\"    25/03/2023   \n",
      "4  5.0                                     Dune   \"02/04/2023\"    25/03/2023   \n",
      "\n",
      "  Days allowed to borrow  Customer ID  \n",
      "0                2 weeks          1.0  \n",
      "1                2 weeks          2.0  \n",
      "2                2 weeks          3.0  \n",
      "3                2 weeks          4.0  \n",
      "4                2 weeks          5.0  \n",
      "   Customer ID   Customer Name\n",
      "0          1.0        Jane Doe\n",
      "1          2.0      John Smith\n",
      "2          3.0      Dan Reeves\n",
      "3          NaN             NaN\n",
      "4          5.0  William Holden\n"
     ]
    }
   ],
   "source": [
    "data_loans = pd.read_csv('03_Library Systembook.csv')\n",
    "data_customers = pd.read_csv('03_Library SystemCustomers.csv')\n",
    "\n",
    "print(data_loans.head())\n",
    "print(data_customers.head())"
   ]
  },
  {
   "cell_type": "markdown",
   "metadata": {},
   "source": [
    "Tasks:\n",
    "- Check for NA values and deal with them.\n",
    "- turn the dates into datetime. \n",
    "- data enrichment: try to calculate the number of days a book was on loan."
   ]
  },
  {
   "cell_type": "markdown",
   "metadata": {},
   "source": []
  },
  {
   "cell_type": "code",
   "execution_count": 11,
   "metadata": {},
   "outputs": [
    {
     "data": {
      "text/html": [
       "<div>\n",
       "<style scoped>\n",
       "    .dataframe tbody tr th:only-of-type {\n",
       "        vertical-align: middle;\n",
       "    }\n",
       "\n",
       "    .dataframe tbody tr th {\n",
       "        vertical-align: top;\n",
       "    }\n",
       "\n",
       "    .dataframe thead th {\n",
       "        text-align: right;\n",
       "    }\n",
       "</style>\n",
       "<table border=\"1\" class=\"dataframe\">\n",
       "  <thead>\n",
       "    <tr style=\"text-align: right;\">\n",
       "      <th></th>\n",
       "      <th>Id</th>\n",
       "      <th>Books</th>\n",
       "      <th>Book checkout</th>\n",
       "      <th>Book Returned</th>\n",
       "      <th>Days allowed to borrow</th>\n",
       "      <th>Customer ID</th>\n",
       "    </tr>\n",
       "  </thead>\n",
       "  <tbody>\n",
       "    <tr>\n",
       "      <th>0</th>\n",
       "      <td>1.0</td>\n",
       "      <td>Catcher in the Rye</td>\n",
       "      <td>\"20/02/2023\"</td>\n",
       "      <td>25/02/2023</td>\n",
       "      <td>2 weeks</td>\n",
       "      <td>1.0</td>\n",
       "    </tr>\n",
       "    <tr>\n",
       "      <th>1</th>\n",
       "      <td>2.0</td>\n",
       "      <td>Lord of the rings the two towers</td>\n",
       "      <td>\"24/03/2023\"</td>\n",
       "      <td>21/03/2023</td>\n",
       "      <td>2 weeks</td>\n",
       "      <td>2.0</td>\n",
       "    </tr>\n",
       "    <tr>\n",
       "      <th>2</th>\n",
       "      <td>3.0</td>\n",
       "      <td>Lord of the rings the return of the kind</td>\n",
       "      <td>\"29/03/2023\"</td>\n",
       "      <td>25/03/2023</td>\n",
       "      <td>2 weeks</td>\n",
       "      <td>3.0</td>\n",
       "    </tr>\n",
       "    <tr>\n",
       "      <th>3</th>\n",
       "      <td>4.0</td>\n",
       "      <td>The hobbit</td>\n",
       "      <td>\"02/04/2023\"</td>\n",
       "      <td>25/03/2023</td>\n",
       "      <td>2 weeks</td>\n",
       "      <td>4.0</td>\n",
       "    </tr>\n",
       "    <tr>\n",
       "      <th>4</th>\n",
       "      <td>5.0</td>\n",
       "      <td>Dune</td>\n",
       "      <td>\"02/04/2023\"</td>\n",
       "      <td>25/03/2023</td>\n",
       "      <td>2 weeks</td>\n",
       "      <td>5.0</td>\n",
       "    </tr>\n",
       "  </tbody>\n",
       "</table>\n",
       "</div>"
      ],
      "text/plain": [
       "    Id                                     Books Book checkout Book Returned  \\\n",
       "0  1.0                       Catcher in the Rye   \"20/02/2023\"    25/02/2023   \n",
       "1  2.0          Lord of the rings the two towers  \"24/03/2023\"    21/03/2023   \n",
       "2  3.0  Lord of the rings the return of the kind  \"29/03/2023\"    25/03/2023   \n",
       "3  4.0                                The hobbit  \"02/04/2023\"    25/03/2023   \n",
       "4  5.0                                     Dune   \"02/04/2023\"    25/03/2023   \n",
       "\n",
       "  Days allowed to borrow  Customer ID  \n",
       "0                2 weeks          1.0  \n",
       "1                2 weeks          2.0  \n",
       "2                2 weeks          3.0  \n",
       "3                2 weeks          4.0  \n",
       "4                2 weeks          5.0  "
      ]
     },
     "execution_count": 11,
     "metadata": {},
     "output_type": "execute_result"
    }
   ],
   "source": [
    "data_loans.head()"
   ]
  },
  {
   "cell_type": "code",
   "execution_count": 12,
   "metadata": {},
   "outputs": [
    {
     "name": "stderr",
     "output_type": "stream",
     "text": [
      "C:\\Users\\Admin\\AppData\\Local\\Temp\\ipykernel_3520\\2999039766.py:1: UserWarning: Could not infer format, so each element will be parsed individually, falling back to `dateutil`. To ensure parsing is consistent and as-expected, please specify a format.\n",
      "  data_loans['Book checkout']=pd.to_datetime(data_loans['Book checkout'],errors ='coerce')\n"
     ]
    }
   ],
   "source": [
    "data_loans['Book checkout']=pd.to_datetime(data_loans['Book checkout'],errors ='coerce')"
   ]
  },
  {
   "cell_type": "code",
   "execution_count": 13,
   "metadata": {},
   "outputs": [
    {
     "ename": "SyntaxError",
     "evalue": "unterminated string literal (detected at line 1) (2251090216.py, line 1)",
     "output_type": "error",
     "traceback": [
      "\u001b[1;36m  Cell \u001b[1;32mIn[13], line 1\u001b[1;36m\u001b[0m\n\u001b[1;33m    data_loans.replace(\",  )\u001b[0m\n\u001b[1;37m                       ^\u001b[0m\n\u001b[1;31mSyntaxError\u001b[0m\u001b[1;31m:\u001b[0m unterminated string literal (detected at line 1)\n"
     ]
    }
   ],
   "source": [
    "data_loans.replace(\",  )"
   ]
  },
  {
   "cell_type": "code",
   "execution_count": 11,
   "metadata": {},
   "outputs": [
    {
     "name": "stdout",
     "output_type": "stream",
     "text": [
      "<class 'pandas.core.frame.DataFrame'>\n",
      "RangeIndex: 114 entries, 0 to 113\n",
      "Data columns (total 6 columns):\n",
      " #   Column                  Non-Null Count  Dtype         \n",
      "---  ------                  --------------  -----         \n",
      " 0   Id                      21 non-null     float64       \n",
      " 1   Books                   20 non-null     object        \n",
      " 2   Book checkout           0 non-null      datetime64[ns]\n",
      " 3   Book Returned           21 non-null     object        \n",
      " 4   Days allowed to borrow  21 non-null     object        \n",
      " 5   Customer ID             20 non-null     float64       \n",
      "dtypes: datetime64[ns](1), float64(2), object(3)\n",
      "memory usage: 5.5+ KB\n"
     ]
    }
   ],
   "source": [
    "\n",
    "data_loans.info()"
   ]
  },
  {
   "cell_type": "markdown",
   "metadata": {},
   "source": []
  },
  {
   "cell_type": "code",
   "execution_count": 3,
   "metadata": {},
   "outputs": [
    {
     "ename": "NameError",
     "evalue": "name 'data_loans' is not defined",
     "output_type": "error",
     "traceback": [
      "\u001b[1;31m---------------------------------------------------------------------------\u001b[0m",
      "\u001b[1;31mNameError\u001b[0m                                 Traceback (most recent call last)",
      "Cell \u001b[1;32mIn[3], line 1\u001b[0m\n\u001b[1;32m----> 1\u001b[0m \u001b[38;5;28mprint\u001b[39m(data_loans\u001b[38;5;241m.\u001b[39mhead())\n",
      "\u001b[1;31mNameError\u001b[0m: name 'data_loans' is not defined"
     ]
    }
   ],
   "source": [
    "print(data_loans.head())"
   ]
  },
  {
   "cell_type": "code",
   "execution_count": 45,
   "metadata": {},
   "outputs": [
    {
     "ename": "AttributeError",
     "evalue": "Can only use .str accessor with string values!",
     "output_type": "error",
     "traceback": [
      "\u001b[1;31m---------------------------------------------------------------------------\u001b[0m",
      "\u001b[1;31mAttributeError\u001b[0m                            Traceback (most recent call last)",
      "Cell \u001b[1;32mIn[45], line 1\u001b[0m\n\u001b[1;32m----> 1\u001b[0m data_loans[\u001b[38;5;124m'\u001b[39m\u001b[38;5;124mBook checkout\u001b[39m\u001b[38;5;124m'\u001b[39m] \u001b[38;5;241m=\u001b[39m data_loans[\u001b[38;5;124m'\u001b[39m\u001b[38;5;124mBook checkout\u001b[39m\u001b[38;5;124m'\u001b[39m]\u001b[38;5;241m.\u001b[39mstr\u001b[38;5;241m.\u001b[39mreplace(\u001b[38;5;124m'\u001b[39m\u001b[38;5;124m\"\u001b[39m\u001b[38;5;124m'\u001b[39m, \u001b[38;5;124m'\u001b[39m\u001b[38;5;124m'\u001b[39m, regex\u001b[38;5;241m=\u001b[39m\u001b[38;5;28;01mFalse\u001b[39;00m)\n",
      "File \u001b[1;32mc:\\ProgramData\\anaconda3\\Lib\\site-packages\\pandas\\core\\generic.py:6204\u001b[0m, in \u001b[0;36mNDFrame.__getattr__\u001b[1;34m(self, name)\u001b[0m\n\u001b[0;32m   6197\u001b[0m \u001b[38;5;28;01mif\u001b[39;00m (\n\u001b[0;32m   6198\u001b[0m     name \u001b[38;5;129;01mnot\u001b[39;00m \u001b[38;5;129;01min\u001b[39;00m \u001b[38;5;28mself\u001b[39m\u001b[38;5;241m.\u001b[39m_internal_names_set\n\u001b[0;32m   6199\u001b[0m     \u001b[38;5;129;01mand\u001b[39;00m name \u001b[38;5;129;01mnot\u001b[39;00m \u001b[38;5;129;01min\u001b[39;00m \u001b[38;5;28mself\u001b[39m\u001b[38;5;241m.\u001b[39m_metadata\n\u001b[0;32m   6200\u001b[0m     \u001b[38;5;129;01mand\u001b[39;00m name \u001b[38;5;129;01mnot\u001b[39;00m \u001b[38;5;129;01min\u001b[39;00m \u001b[38;5;28mself\u001b[39m\u001b[38;5;241m.\u001b[39m_accessors\n\u001b[0;32m   6201\u001b[0m     \u001b[38;5;129;01mand\u001b[39;00m \u001b[38;5;28mself\u001b[39m\u001b[38;5;241m.\u001b[39m_info_axis\u001b[38;5;241m.\u001b[39m_can_hold_identifiers_and_holds_name(name)\n\u001b[0;32m   6202\u001b[0m ):\n\u001b[0;32m   6203\u001b[0m     \u001b[38;5;28;01mreturn\u001b[39;00m \u001b[38;5;28mself\u001b[39m[name]\n\u001b[1;32m-> 6204\u001b[0m \u001b[38;5;28;01mreturn\u001b[39;00m \u001b[38;5;28mobject\u001b[39m\u001b[38;5;241m.\u001b[39m\u001b[38;5;21m__getattribute__\u001b[39m(\u001b[38;5;28mself\u001b[39m, name)\n",
      "File \u001b[1;32mc:\\ProgramData\\anaconda3\\Lib\\site-packages\\pandas\\core\\accessor.py:224\u001b[0m, in \u001b[0;36mCachedAccessor.__get__\u001b[1;34m(self, obj, cls)\u001b[0m\n\u001b[0;32m    221\u001b[0m \u001b[38;5;28;01mif\u001b[39;00m obj \u001b[38;5;129;01mis\u001b[39;00m \u001b[38;5;28;01mNone\u001b[39;00m:\n\u001b[0;32m    222\u001b[0m     \u001b[38;5;66;03m# we're accessing the attribute of the class, i.e., Dataset.geo\u001b[39;00m\n\u001b[0;32m    223\u001b[0m     \u001b[38;5;28;01mreturn\u001b[39;00m \u001b[38;5;28mself\u001b[39m\u001b[38;5;241m.\u001b[39m_accessor\n\u001b[1;32m--> 224\u001b[0m accessor_obj \u001b[38;5;241m=\u001b[39m \u001b[38;5;28mself\u001b[39m\u001b[38;5;241m.\u001b[39m_accessor(obj)\n\u001b[0;32m    225\u001b[0m \u001b[38;5;66;03m# Replace the property with the accessor object. Inspired by:\u001b[39;00m\n\u001b[0;32m    226\u001b[0m \u001b[38;5;66;03m# https://www.pydanny.com/cached-property.html\u001b[39;00m\n\u001b[0;32m    227\u001b[0m \u001b[38;5;66;03m# We need to use object.__setattr__ because we overwrite __setattr__ on\u001b[39;00m\n\u001b[0;32m    228\u001b[0m \u001b[38;5;66;03m# NDFrame\u001b[39;00m\n\u001b[0;32m    229\u001b[0m \u001b[38;5;28mobject\u001b[39m\u001b[38;5;241m.\u001b[39m\u001b[38;5;21m__setattr__\u001b[39m(obj, \u001b[38;5;28mself\u001b[39m\u001b[38;5;241m.\u001b[39m_name, accessor_obj)\n",
      "File \u001b[1;32mc:\\ProgramData\\anaconda3\\Lib\\site-packages\\pandas\\core\\strings\\accessor.py:190\u001b[0m, in \u001b[0;36mStringMethods.__init__\u001b[1;34m(self, data)\u001b[0m\n\u001b[0;32m    187\u001b[0m \u001b[38;5;28;01mdef\u001b[39;00m \u001b[38;5;21m__init__\u001b[39m(\u001b[38;5;28mself\u001b[39m, data) \u001b[38;5;241m-\u001b[39m\u001b[38;5;241m>\u001b[39m \u001b[38;5;28;01mNone\u001b[39;00m:\n\u001b[0;32m    188\u001b[0m     \u001b[38;5;28;01mfrom\u001b[39;00m \u001b[38;5;21;01mpandas\u001b[39;00m\u001b[38;5;21;01m.\u001b[39;00m\u001b[38;5;21;01mcore\u001b[39;00m\u001b[38;5;21;01m.\u001b[39;00m\u001b[38;5;21;01marrays\u001b[39;00m\u001b[38;5;21;01m.\u001b[39;00m\u001b[38;5;21;01mstring_\u001b[39;00m \u001b[38;5;28;01mimport\u001b[39;00m StringDtype\n\u001b[1;32m--> 190\u001b[0m     \u001b[38;5;28mself\u001b[39m\u001b[38;5;241m.\u001b[39m_inferred_dtype \u001b[38;5;241m=\u001b[39m \u001b[38;5;28mself\u001b[39m\u001b[38;5;241m.\u001b[39m_validate(data)\n\u001b[0;32m    191\u001b[0m     \u001b[38;5;28mself\u001b[39m\u001b[38;5;241m.\u001b[39m_is_categorical \u001b[38;5;241m=\u001b[39m \u001b[38;5;28misinstance\u001b[39m(data\u001b[38;5;241m.\u001b[39mdtype, CategoricalDtype)\n\u001b[0;32m    192\u001b[0m     \u001b[38;5;28mself\u001b[39m\u001b[38;5;241m.\u001b[39m_is_string \u001b[38;5;241m=\u001b[39m \u001b[38;5;28misinstance\u001b[39m(data\u001b[38;5;241m.\u001b[39mdtype, StringDtype)\n",
      "File \u001b[1;32mc:\\ProgramData\\anaconda3\\Lib\\site-packages\\pandas\\core\\strings\\accessor.py:244\u001b[0m, in \u001b[0;36mStringMethods._validate\u001b[1;34m(data)\u001b[0m\n\u001b[0;32m    241\u001b[0m inferred_dtype \u001b[38;5;241m=\u001b[39m lib\u001b[38;5;241m.\u001b[39minfer_dtype(values, skipna\u001b[38;5;241m=\u001b[39m\u001b[38;5;28;01mTrue\u001b[39;00m)\n\u001b[0;32m    243\u001b[0m \u001b[38;5;28;01mif\u001b[39;00m inferred_dtype \u001b[38;5;129;01mnot\u001b[39;00m \u001b[38;5;129;01min\u001b[39;00m allowed_types:\n\u001b[1;32m--> 244\u001b[0m     \u001b[38;5;28;01mraise\u001b[39;00m \u001b[38;5;167;01mAttributeError\u001b[39;00m(\u001b[38;5;124m\"\u001b[39m\u001b[38;5;124mCan only use .str accessor with string values!\u001b[39m\u001b[38;5;124m\"\u001b[39m)\n\u001b[0;32m    245\u001b[0m \u001b[38;5;28;01mreturn\u001b[39;00m inferred_dtype\n",
      "\u001b[1;31mAttributeError\u001b[0m: Can only use .str accessor with string values!"
     ]
    }
   ],
   "source": [
    "data_loans['Book checkout'] = data_loans['Book checkout'].str.replace('\"', '', regex=False)"
   ]
  },
  {
   "cell_type": "code",
   "execution_count": null,
   "metadata": {},
   "outputs": [],
   "source": [
    "data_loans['Book checkout'] = pd.to_datetime(data_loans['Book checkout'], dayfirst=True, errors='coerce')"
   ]
  },
  {
   "cell_type": "code",
   "execution_count": 14,
   "metadata": {},
   "outputs": [],
   "source": [
    "data_loans['Book Returned'] = pd.to_datetime(data_loans['Book Returned'], dayfirst=True, errors='coerce')"
   ]
  },
  {
   "cell_type": "code",
   "execution_count": 18,
   "metadata": {},
   "outputs": [
    {
     "ename": "NameError",
     "evalue": "name 'df' is not defined",
     "output_type": "error",
     "traceback": [
      "\u001b[1;31m---------------------------------------------------------------------------\u001b[0m",
      "\u001b[1;31mNameError\u001b[0m                                 Traceback (most recent call last)",
      "Cell \u001b[1;32mIn[18], line 1\u001b[0m\n\u001b[1;32m----> 1\u001b[0m data_loans[\u001b[38;5;124m'\u001b[39m\u001b[38;5;124mLoan length\u001b[39m\u001b[38;5;124m'\u001b[39m] \u001b[38;5;241m=\u001b[39m (df[\u001b[38;5;124m'\u001b[39m\u001b[38;5;124mBook Returned\u001b[39m\u001b[38;5;124m'\u001b[39m] \u001b[38;5;241m-\u001b[39m df[\u001b[38;5;124m'\u001b[39m\u001b[38;5;124mBook checkout\u001b[39m\u001b[38;5;124m'\u001b[39m])\u001b[38;5;241m.\u001b[39mdt\u001b[38;5;241m.\u001b[39mdays\n",
      "\u001b[1;31mNameError\u001b[0m: name 'df' is not defined"
     ]
    }
   ],
   "source": [
    "data_loans['Loan length'] = (df['Book Returned'] - df['Book checkout']).dt.days"
   ]
  },
  {
   "cell_type": "code",
   "execution_count": 30,
   "metadata": {},
   "outputs": [
    {
     "ename": "SyntaxError",
     "evalue": "invalid syntax (3646874048.py, line 1)",
     "output_type": "error",
     "traceback": [
      "\u001b[1;36m  Cell \u001b[1;32mIn[30], line 1\u001b[1;36m\u001b[0m\n\u001b[1;33m    data_loans calculate_days_difference(data_loans, 'Book checkout', 'Book Returned', 'Loan length')\u001b[0m\n\u001b[1;37m               ^\u001b[0m\n\u001b[1;31mSyntaxError\u001b[0m\u001b[1;31m:\u001b[0m invalid syntax\n"
     ]
    }
   ],
   "source": [
    "data_loans calculate_days_difference(data_loans, 'Book checkout', 'Book Returned', 'Loan length')"
   ]
  },
  {
   "cell_type": "code",
   "execution_count": null,
   "metadata": {},
   "outputs": [],
   "source": [
    "data_loans['Loan length'] = (data_loans['Book Returned'] - data_loans['Book checkout']).dt.days"
   ]
  },
  {
   "cell_type": "code",
   "execution_count": 19,
   "metadata": {},
   "outputs": [
    {
     "ename": "IndentationError",
     "evalue": "unexpected indent (2174290848.py, line 2)",
     "output_type": "error",
     "traceback": [
      "\u001b[1;36m  Cell \u001b[1;32mIn[19], line 2\u001b[1;36m\u001b[0m\n\u001b[1;33m    data_loans_cleaned = data_loans.drop_duplicates()\u001b[0m\n\u001b[1;37m    ^\u001b[0m\n\u001b[1;31mIndentationError\u001b[0m\u001b[1;31m:\u001b[0m unexpected indent\n"
     ]
    }
   ],
   "source": [
    "initial_row_count = len(data_loans)\n",
    "    data_loans_cleaned = data_loans.drop_duplicates()\n",
    "    dropped_count = initial_row_count - len(data_loans_cleaned)\n",
    "    return data_loans_cleaned, dropped_count"
   ]
  },
  {
   "cell_type": "code",
   "execution_count": 42,
   "metadata": {},
   "outputs": [
    {
     "name": "stdout",
     "output_type": "stream",
     "text": [
      "Cleaned DataFrame:\n",
      "      Id                                     Books Book checkout  \\\n",
      "0    1.0                       Catcher in the Rye     2023-02-20   \n",
      "1    2.0          Lord of the rings the two towers    2023-03-24   \n",
      "2    3.0  Lord of the rings the return of the kind    2023-03-29   \n",
      "3    4.0                                The hobbit    2023-04-02   \n",
      "4    5.0                                     Dune     2023-04-02   \n",
      "5    6.0                              Little Women    2023-04-02   \n",
      "6    7.0                                        IT    2063-04-10   \n",
      "7    8.0                                   Misery     2023-04-15   \n",
      "8    9.0                                  Catch 22    2023-04-15   \n",
      "9   10.0                              Animal Farm     2023-04-20   \n",
      "10  11.0                                      1984    2023-04-23   \n",
      "11  12.0                              Little Women    2023-04-02   \n",
      "12  13.0                              East of Eden    2023-04-30   \n",
      "13  14.0                   America Is in the Heart    2023-05-01   \n",
      "14  15.0                         Wuthering Heights    2023-05-01   \n",
      "15  16.0                                Dark Tales    2023-05-15   \n",
      "16  17.0                        The Bloody Chamber           NaT   \n",
      "17  18.0                            Les Miserables    2023-06-03   \n",
      "18  19.0                                   Dracula    2023-06-10   \n",
      "19  20.0                              Frankenstein    2023-06-01   \n",
      "20  21.0                                       NaN    2023-06-01   \n",
      "21   NaN                                       NaN           NaT   \n",
      "\n",
      "   Book Returned Days allowed to borrow  Customer ID  Loan length  \n",
      "0     2023-02-25                2 weeks          1.0          5.0  \n",
      "1     2023-03-21                2 weeks          2.0         -3.0  \n",
      "2     2023-03-25                2 weeks          3.0         -4.0  \n",
      "3     2023-03-25                2 weeks          4.0         -8.0  \n",
      "4     2023-03-25                2 weeks          5.0         -8.0  \n",
      "5     2023-05-01                2 weeks          1.0         29.0  \n",
      "6     2023-04-03                2 weeks          6.0     -14617.0  \n",
      "7     2023-04-03                2 weeks          7.0        -12.0  \n",
      "8     2023-04-16                2 weeks          7.0          1.0  \n",
      "9     2023-04-24                2 weeks          2.0          4.0  \n",
      "10    2023-04-27                2 weeks          8.0          4.0  \n",
      "11    2023-05-01                2 weeks          1.0         29.0  \n",
      "12    2023-05-05                2 weeks          2.0          5.0  \n",
      "13    2023-05-07                2 weeks          3.0          6.0  \n",
      "14    2023-05-10                2 weeks          9.0          9.0  \n",
      "15    2023-06-01                2 weeks          2.0         17.0  \n",
      "16    2023-06-04                2 weeks          3.0          NaN  \n",
      "17    2023-06-07                2 weeks          5.0          4.0  \n",
      "18    2023-07-10                2 weeks         10.0         30.0  \n",
      "19    2023-06-20                2 weeks          2.0         19.0  \n",
      "20    2023-06-05                2 weeks          NaN          4.0  \n",
      "21           NaT                    NaN          NaN          NaN  \n",
      "Number of duplicates removed: 92\n"
     ]
    }
   ],
   "source": [
    "\n",
    "print(f\"Number of duplicates removed: {dropped_count}\")"
   ]
  },
  {
   "cell_type": "code",
   "execution_count": 20,
   "metadata": {},
   "outputs": [],
   "source": [
    "def remove_duplicates(data_loans):\n",
    "    initial_row_count = len(data_loans)\n",
    "    data_loans_cleaned = data_loans.drop_duplicates()\n",
    "    dropped_count = initial_row_count - len(data_loans_cleaned)\n",
    "    return data_loans_cleaned, dropped_count\n",
    "    "
   ]
  },
  {
   "cell_type": "code",
   "execution_count": 24,
   "metadata": {},
   "outputs": [
    {
     "name": "stdout",
     "output_type": "stream",
     "text": [
      "Number of rows dropped: 114\n"
     ]
    }
   ],
   "source": [
    "\n",
    "initial_row_count = len(data_loans)\n",
    "data_loans_cleaned = data_loans.dropna()\n",
    "dropped_row_count = initial_row_count - len(data_loans_cleaned)\n",
    "\n",
    "print(\"Number of rows dropped:\", dropped_row_count)\n"
   ]
  },
  {
   "cell_type": "code",
   "execution_count": 25,
   "metadata": {},
   "outputs": [],
   "source": [
    "data_loans['Loan length'] = (data_loans['Book Returned'] - data_loans['Book checkout']).dt.days"
   ]
  },
  {
   "cell_type": "code",
   "execution_count": 26,
   "metadata": {},
   "outputs": [
    {
     "name": "stdout",
     "output_type": "stream",
     "text": [
      "    Id                                     Books Book checkout Book Returned  \\\n",
      "0  1.0                       Catcher in the Rye            NaT    2023-02-25   \n",
      "1  2.0          Lord of the rings the two towers           NaT    2023-03-21   \n",
      "2  3.0  Lord of the rings the return of the kind           NaT    2023-03-25   \n",
      "3  4.0                                The hobbit           NaT    2023-03-25   \n",
      "4  5.0                                     Dune            NaT    2023-03-25   \n",
      "\n",
      "  Days allowed to borrow  Customer ID  Loan length  \n",
      "0                2 weeks          1.0          NaN  \n",
      "1                2 weeks          2.0          NaN  \n",
      "2                2 weeks          3.0          NaN  \n",
      "3                2 weeks          4.0          NaN  \n",
      "4                2 weeks          5.0          NaN  \n"
     ]
    }
   ],
   "source": [
    "print(data_loans.head())"
   ]
  }
 ],
 "metadata": {
  "kernelspec": {
   "display_name": "base",
   "language": "python",
   "name": "python3"
  },
  "language_info": {
   "codemirror_mode": {
    "name": "ipython",
    "version": 3
   },
   "file_extension": ".py",
   "mimetype": "text/x-python",
   "name": "python",
   "nbconvert_exporter": "python",
   "pygments_lexer": "ipython3",
   "version": "3.11.7"
  }
 },
 "nbformat": 4,
 "nbformat_minor": 2
}
